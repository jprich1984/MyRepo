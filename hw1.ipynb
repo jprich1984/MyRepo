{
 "cells": [
  {
   "cell_type": "markdown",
   "metadata": {},
   "source": [
    "# Hw 1. Please complete the following activity and submit the notebook in LMS (learning management system). This homework is due by the end of week 3, to allow time for selecting your team and topic of the final project.\n"
   ]
  },
  {
   "cell_type": "markdown",
   "metadata": {},
   "source": [
    "# Q1(.5 point) Why we need Python virtual environments?\n",
    "\n",
    "Please write no more than 3 lines."
   ]
  },
  {
   "cell_type": "markdown",
   "metadata": {},
   "source": [
    "*write you response here*\n"
   ]
  },
  {
   "cell_type": "markdown",
   "metadata": {},
   "source": [
    "# Q2(.5 point) Sort the following list in place alphabetically using last three characters."
   ]
  },
  {
   "cell_type": "code",
   "execution_count": 5,
   "metadata": {},
   "outputs": [
    {
     "name": "stdout",
     "output_type": "stream",
     "text": [
      "['Africa', 'America', 'Antarctica', 'Australia', 'Europe', 'Asia']\n",
      "ica\n",
      "ica\n",
      "ica\n",
      "lia\n",
      "ope\n",
      "sia\n"
     ]
    }
   ],
   "source": [
    "continentsL = ['Europe', 'Africa', 'America', 'Antarctica', 'Asia', 'Australia']\n",
    "# Write you code in the next line\n",
    "continentsL.sort(key=lambda x: x[-3:])\n",
    "print(continentsL)\n"
   ]
  },
  {
   "cell_type": "markdown",
   "metadata": {},
   "source": [
    "# Q3(1= .5+.5 points) We want to compare random integer generation time in numpy and random module of \"plain\" python. Generate 100 random integers in the range 1 to 10 including 1 and 10. Write jupyter notebook line magic to compare execution time of random integer generation in the following cells (look for the cells having the comment *write line magic*).  Line magic must execute the given statement  10 times in a loop and repeat the process 5 times.\n",
    "\n",
    " \n",
    " Hints:\n",
    "\n",
    " - Note that numpy.random has randint function and random has random.randint function.\n",
    " - Press shift+tab after typing above function or search their documentation to understand their parameters.\n",
    " - use ? on magic command timeit for further documentation. see how to use **-n and -r options**.\n",
    " "
   ]
  },
  {
   "cell_type": "code",
   "execution_count": 18,
   "metadata": {},
   "outputs": [],
   "source": [
    "import random\n",
    "num_sample = 100\n",
    "low = 1\n",
    "high = 10\n",
    "for i in range(num_sample):\n",
    "    num=random.randint(low,high)\n",
    "def func(num_sample):\n",
    "    for i in range(num_sample):\n",
    "        num=random.randint(low,high)"
   ]
  },
  {
   "cell_type": "code",
   "execution_count": 20,
   "metadata": {},
   "outputs": [
    {
     "name": "stdout",
     "output_type": "stream",
     "text": [
      "95.1 µs ± 8.21 µs per loop (mean ± std. dev. of 10 runs, 10,000 loops each)\n"
     ]
    }
   ],
   "source": [
    "%timeit -r 10 [func(num_sample)]\n",
    "\n"
   ]
  },
  {
   "cell_type": "code",
   "execution_count": 8,
   "metadata": {},
   "outputs": [],
   "source": [
    "import numpy as np"
   ]
  },
  {
   "cell_type": "code",
   "execution_count": 15,
   "metadata": {},
   "outputs": [
    {
     "name": "stdout",
     "output_type": "stream",
     "text": [
      "CPU times: user 3 µs, sys: 2 µs, total: 5 µs\n",
      "Wall time: 8.11 µs\n",
      "[8 9 5 3 4 3 8 2 3 3 6 2 1 6 7 7 1 3 9 3 7 7 6 8 2 8 7 3 5 5 4 2 8 5 3 4 7\n",
      " 8 8 8 6 7 6 8 1 7 3 2 4 9 8 3 9 9 6 2 3 2 6 6 5 7 4 7 2 7 4 4 7 6 3 3 5 9\n",
      " 5 5 8 1 2 7 8 5 6 4 1 5 9 5 3 3 5 2 1 3 7 9 4 2 5 2]\n"
     ]
    }
   ],
   "source": [
    "# write line magic for numpy randint in the next line\n",
    "%time\n",
    "nums=np.random.randint(low,high,num_sample)\n"
   ]
  },
  {
   "cell_type": "markdown",
   "metadata": {},
   "source": [
    "<font size = \"6\"> To start working toward final project, complete the following questions by writing markdown in the same cell in next line. Each question in worth .5 point. </font>\n",
    "\n",
    "In tools 1 course, __*we are concerned with data cleaning, feature engineering and exploratory analysis. Make sure your selected final project allows for lots of data cleaning, transformation and engineering opportunity.*__ \n",
    "\n",
    "Go over project and presentation rubric in course webpage to better understand the requirement for the project.  We will evaluate the answer to see if it meets the final project requirements.\n",
    "\n",
    "\n",
    "\n",
    "<font color = \"red\" size = \"5\">If you are working in a team, we'll read only one team member notebook for the following questions. Please make sure you have identical answers for following questions.  </font>\n",
    "\n",
    "<font color =\"red\"> To edit a markdown cell you need to double click in the cell</font>"
   ]
  },
  {
   "cell_type": "markdown",
   "metadata": {},
   "source": [
    "# Q4 List your team members in bullet format. (No more than 3 members).\n",
    "Note that\n",
    "\n",
    "- **Each member** has to present a portion of the project in the final presentation.\n",
    "\n",
    "-  Final report must list the contribution of each member. \n"
   ]
  },
  {
   "cell_type": "markdown",
   "metadata": {},
   "source": [
    "*write you response here*\n",
    "\n"
   ]
  },
  {
   "cell_type": "markdown",
   "metadata": {},
   "source": [
    "# Q5  What  problem you are trying to solve?"
   ]
  },
  {
   "cell_type": "markdown",
   "metadata": {},
   "source": [
    "*write you response here*\n"
   ]
  },
  {
   "cell_type": "markdown",
   "metadata": {},
   "source": [
    "# Q6 Describe the attributes of examples in the dataset. If you are planning to collect the data (webscrapping, web API etc.), list the timeline to finish the data collection."
   ]
  },
  {
   "cell_type": "markdown",
   "metadata": {},
   "source": [
    "*write you response here*\n"
   ]
  },
  {
   "cell_type": "markdown",
   "metadata": {},
   "source": [
    "# Q7 Give example of records (sample points). Explain why this is a noisy data set (highlight  portion of record attributes you think are noisy)."
   ]
  },
  {
   "cell_type": "markdown",
   "metadata": {},
   "source": [
    "*write you response here*"
   ]
  },
  {
   "cell_type": "markdown",
   "metadata": {},
   "source": [
    "# Q8 What kind of  feature engineering opportunity you see.\n",
    "\n",
    "We'll cover feature engineering but here are some examples to get an idea of feature engineering.\n",
    "- Do you need to extract a number, year, or a word in column (attribute of a record).\n",
    "    + Perhaps extracting Miss, Mr., Dr. is more important than actual name?\n",
    "    + Maybe year or time is embbedded in the text desciption and it is important for analysis. \n",
    "- If a column has numerical values do you see a potential for using these values or a transformation of these values like square, log etc?"
   ]
  },
  {
   "cell_type": "markdown",
   "metadata": {},
   "source": [
    "*write you response here*"
   ]
  }
 ],
 "metadata": {
  "kernelspec": {
   "display_name": "Python 3 (ipykernel)",
   "language": "python",
   "name": "python3"
  },
  "language_info": {
   "codemirror_mode": {
    "name": "ipython",
    "version": 3
   },
   "file_extension": ".py",
   "mimetype": "text/x-python",
   "name": "python",
   "nbconvert_exporter": "python",
   "pygments_lexer": "ipython3",
   "version": "3.11.5"
  },
  "toc": {
   "base_numbering": 1,
   "nav_menu": {},
   "number_sections": false,
   "sideBar": true,
   "skip_h1_title": false,
   "title_cell": "Table of Contents",
   "title_sidebar": "Contents",
   "toc_cell": false,
   "toc_position": {},
   "toc_section_display": true,
   "toc_window_display": false
  },
  "varInspector": {
   "cols": {
    "lenName": 16,
    "lenType": 16,
    "lenVar": 40
   },
   "kernels_config": {
    "python": {
     "delete_cmd_postfix": "",
     "delete_cmd_prefix": "del ",
     "library": "var_list.py",
     "varRefreshCmd": "print(var_dic_list())"
    },
    "r": {
     "delete_cmd_postfix": ") ",
     "delete_cmd_prefix": "rm(",
     "library": "var_list.r",
     "varRefreshCmd": "cat(var_dic_list()) "
    }
   },
   "types_to_exclude": [
    "module",
    "function",
    "builtin_function_or_method",
    "instance",
    "_Feature"
   ],
   "window_display": false
  }
 },
 "nbformat": 4,
 "nbformat_minor": 2
}
